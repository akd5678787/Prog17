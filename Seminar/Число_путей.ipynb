{
 "cells": [
  {
   "cell_type": "code",
   "execution_count": 1,
   "id": "be0d9fb8",
   "metadata": {},
   "outputs": [],
   "source": [
    "#матрица граф\n",
    "edge_list = [[0, 1], [0, 3], \n",
    "             [1, 3],  \n",
    "             [2, 3], \n",
    "             [4, 0], [4, 3], \n",
    "             [5, 0]\n",
    "]\n",
    "vert_num = 6\n",
    "\n"
   ]
  },
  {
   "cell_type": "code",
   "execution_count": 2,
   "id": "5991da13",
   "metadata": {},
   "outputs": [
    {
     "name": "stdout",
     "output_type": "stream",
     "text": [
      "[[1, 3], [3], [3], [], [0, 3], [0]]\n"
     ]
    }
   ],
   "source": [
    "adj_list = [[] for _ in range(vert_num)]\n",
    "for u, v in edge_list:\n",
    "    adj_list[u].append(v)\n",
    "print(adj_list)      \n"
   ]
  },
  {
   "cell_type": "code",
   "execution_count": 3,
   "id": "ad981119",
   "metadata": {},
   "outputs": [
    {
     "name": "stdout",
     "output_type": "stream",
     "text": [
      "[[0, 1, 0, 1, 0, 0], [0, 0, 0, 1, 0, 0], [0, 0, 0, 1, 0, 0], [0, 0, 0, 0, 0, 0], [1, 0, 0, 1, 0, 0], [1, 0, 0, 0, 0, 0]]\n"
     ]
    }
   ],
   "source": [
    "adj_matrix = [[0 for _ in range(vert_num)] for _ in range(vert_num)]\n",
    "\n",
    "for edge in edge_list:\n",
    "    u = edge[0]\n",
    "    v = edge[1]\n",
    "    adj_matrix[u][v] = 1\n",
    "    \n",
    "print(adj_matrix)    "
   ]
  },
  {
   "cell_type": "code",
   "execution_count": 4,
   "id": "a6826af3",
   "metadata": {},
   "outputs": [
    {
     "name": "stdout",
     "output_type": "stream",
     "text": [
      "Exit_timer: [7, 6, None, 5, 8, None]\n",
      "[5, 4, 2, 0, 1, 3]\n"
     ]
    }
   ],
   "source": [
    "#поиск в глубину\n",
    "\n",
    "g = adj_list\n",
    "\n",
    "parents = [None for _ in range(vert_num)]\n",
    "colors = [\"w\" for _ in range(vert_num)]\n",
    "timer = 0\n",
    "tin = [None for _ in range(vert_num)]\n",
    "tout = [None for _ in range(vert_num)]\n",
    "\n",
    "def dfs(v, p = -1):\n",
    "    global timer\n",
    "    parents[v] = p\n",
    "    colors[v] = \"g\"\n",
    "    timer += 1\n",
    "    tin[v] = timer\n",
    "    for u in g[v]:\n",
    "        if colors[u] == \"g\":\n",
    "            print(f\"found cycle {v} -> {u}\")\n",
    "            continue\n",
    "        elif colors[u] == \"b\":\n",
    "            continue\n",
    "        elif colors[u] == \"w\":\n",
    "            dfs(u, v)\n",
    "    colors[v] = \"b\"\n",
    "    timer += 1\n",
    "    tout[v] = timer\n",
    "    \n",
    "    \n",
    "dfs(4)\n",
    "\n",
    "print(\"Exit_timer:\", tout)\n",
    "\n",
    "\n",
    "\n",
    "# Топологическая сортировка (перестановка вершин графа, такая что ребра ведут слева направо)\n",
    "\n",
    "\n",
    "g = adj_list\n",
    "\n",
    "parents = [None for _ in range(vert_num)]\n",
    "colors = [\"w\" for _ in range(vert_num)]\n",
    "timer = 0\n",
    "tin = [None for _ in range(vert_num)]\n",
    "tout = [None for _ in range(vert_num)]\n",
    "\n",
    "def top_sort():\n",
    "    for v in range(vert_num):\n",
    "        if colors[v] == \"w\":\n",
    "            dfs(v)\n",
    "    vert_list = [i for i in range(vert_num)]\n",
    "    ans = [\n",
    "        x for y, x in sorted(zip(tout, vert_list), key = lambda pair: pair[0], reverse = True)\n",
    "    ]\n",
    "    return ans\n",
    "\n",
    "print(top_sort())\n",
    "\n",
    "\n",
    "\n"
   ]
  },
  {
   "cell_type": "code",
   "execution_count": 13,
   "id": "2daaf728",
   "metadata": {},
   "outputs": [
    {
     "name": "stdout",
     "output_type": "stream",
     "text": [
      "[4, 2, 2, 1, 6, 5]\n"
     ]
    }
   ],
   "source": [
    "# Количество путей из вершины\n",
    "\n",
    "ts = top_sort()\n",
    "path = [1 for i in range(len(ts))]\n",
    "L = len(ts)\n",
    "for i in range(L-2, -1, -1):\n",
    "    arr = adj_list[ts[i]]\n",
    "    for y in range(len(arr)):\n",
    "        u = arr[y]\n",
    "        pon = ts.index(u)\n",
    "        znach = path[i]+path[pon]\n",
    "        path[i] = znach\n",
    "path_finish = []\n",
    "for i in range(len(ts)):\n",
    "    inde = ts.index(i)\n",
    "    path_finish.append(path[inde])\n",
    "    \n",
    "print(path_finish)    \n",
    "\n"
   ]
  },
  {
   "cell_type": "code",
   "execution_count": null,
   "id": "9efe0d4d",
   "metadata": {},
   "outputs": [],
   "source": []
  }
 ],
 "metadata": {
  "kernelspec": {
   "display_name": "Python 3 (ipykernel)",
   "language": "python",
   "name": "python3"
  },
  "language_info": {
   "codemirror_mode": {
    "name": "ipython",
    "version": 3
   },
   "file_extension": ".py",
   "mimetype": "text/x-python",
   "name": "python",
   "nbconvert_exporter": "python",
   "pygments_lexer": "ipython3",
   "version": "3.11.4"
  }
 },
 "nbformat": 4,
 "nbformat_minor": 5
}
