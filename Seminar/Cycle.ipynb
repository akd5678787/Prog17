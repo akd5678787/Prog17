{
 "cells": [
  {
   "cell_type": "code",
   "execution_count": 1,
   "id": "ab62f760",
   "metadata": {},
   "outputs": [
    {
     "name": "stdout",
     "output_type": "stream",
     "text": [
      "[[1, 2, 3], [2, 4], [4], [4], [5], [3]]\n",
      "[[0, 1, 1, 1, 0, 0], [0, 0, 1, 0, 1, 0], [0, 0, 0, 0, 1, 0], [0, 0, 0, 0, 1, 0], [0, 0, 0, 0, 0, 1], [0, 0, 0, 1, 0, 0]]\n",
      "found cycle: 3 -> 4 -> 5 -> 3\n",
      "Exit_timer: [12, 11, 10, 7, 9, 8]\n",
      "found cycle: 3 -> 4 -> 5 -> 3\n",
      "[0, 1, 2, 4, 5, 3]\n"
     ]
    }
   ],
   "source": [
    "\n",
    "#матрица граф\n",
    "\n",
    "edge_list = [[0, 1], [0, 2], [0, 3],\n",
    "             [1, 2],  [1, 4], \n",
    "             [2, 4],  \n",
    "             [3, 4],\n",
    "             [4, 5], \n",
    "             [5, 3]\n",
    "]\n",
    "vert_num = 6\n",
    "\n",
    "'''edge_list = [[0, 1],\n",
    "             [1, 2],\n",
    "             [2, 3],\n",
    "             [3, 4],\n",
    "             [4, 0]\n",
    "]\n",
    "vert_num = 5'''\n",
    "\n",
    "adj_list = [[] for _ in range(vert_num)]\n",
    "for u, v in edge_list:\n",
    "    adj_list[u].append(v)\n",
    "print(adj_list) \n",
    "\n",
    "\n",
    "\n",
    "adj_matrix = [[0 for _ in range(vert_num)] for _ in range(vert_num)]\n",
    "\n",
    "for edge in edge_list:\n",
    "    u = edge[0]\n",
    "    v = edge[1]\n",
    "    adj_matrix[u][v] = 1\n",
    "    \n",
    "print(adj_matrix)    \n",
    "\n",
    "\n",
    "#поиск в глубину\n",
    "\n",
    "g = adj_list\n",
    "\n",
    "parents = [None for _ in range(vert_num)]\n",
    "colors = [\"w\" for _ in range(vert_num)]\n",
    "timer = 0\n",
    "tin = [None for _ in range(vert_num)]\n",
    "tout = [None for _ in range(vert_num)]\n",
    "\n",
    "def dfs(v, p = -1):\n",
    "    global timer\n",
    "    cycle = []\n",
    "    cycle_last = []\n",
    "    parents[v] = p\n",
    "    colors[v] = \"g\"\n",
    "    timer += 1\n",
    "    tin[v] = timer\n",
    "    for u in g[v]:\n",
    "        if colors[u] == \"g\":\n",
    "            cycle.append(v)\n",
    "            cycle.append(u)\n",
    "            for i in range(u, vert_num):\n",
    "                k = adj_list[cycle[len(cycle)-1]]\n",
    "                for y in range(0, len(k)):\n",
    "                    kk = k[y]\n",
    "                    if colors[kk] == \"g\":\n",
    "                        cycle.append(kk)\n",
    "                        \n",
    "            if cycle[0] != cycle[len(cycle)-1]:\n",
    "                while  cycle[0] != cycle[len(cycle)-1]:\n",
    "                    cycle.pop(len(cycle)-1)\n",
    "            for i in range(0, len(cycle)):\n",
    "                cycle_last.append(str(cycle[i]))\n",
    "                cycle_last.append('->')\n",
    "            cycle_last = cycle_last[:-1]             \n",
    "                \n",
    "            print(\"found cycle:\", ' '.join(cycle_last))\n",
    "            continue\n",
    "        elif colors[u] == \"b\":\n",
    "            continue\n",
    "        elif colors[u] == \"w\":\n",
    "            dfs(u, v)\n",
    "    colors[v] = \"b\"\n",
    "    timer += 1\n",
    "    tout[v] = timer\n",
    "    \n",
    "    \n",
    "dfs(0)\n",
    "#print(tin)\n",
    "#print(colors)\n",
    "print(\"Exit_timer:\", tout)\n",
    "\n",
    "# Топологическая сортировка (перестановка вершин графа, такая что ребра ведут слева направо)\n",
    "\n",
    "\n",
    "g = adj_list\n",
    "\n",
    "parents = [None for _ in range(vert_num)]\n",
    "colors = [\"w\" for _ in range(vert_num)]\n",
    "timer = 0\n",
    "tin = [None for _ in range(vert_num)]\n",
    "tout = [None for _ in range(vert_num)]\n",
    "\n",
    "def top_sort():\n",
    "    for v in range(vert_num):\n",
    "        if colors[v] == \"w\":\n",
    "            dfs(v)\n",
    "    vert_list = [i for i in range(vert_num)]\n",
    "    ans = [\n",
    "        x for y, x in sorted(zip(tout, vert_list), key = lambda pair: pair[0], reverse = True)\n",
    "    ]\n",
    "    return ans\n",
    "\n",
    "print(top_sort())\n",
    "\n"
   ]
  },
  {
   "cell_type": "code",
   "execution_count": null,
   "id": "22be6d4b",
   "metadata": {},
   "outputs": [],
   "source": [
    "edge_list = [[0, 1], [0, 2], [0, 3],\n",
    "             [1, 2],  [1, 4], \n",
    "             [2, 4],  \n",
    "             [3, 4],\n",
    "             [4, 5], \n",
    "             [5, 3]\n",
    "]\n",
    "vert_num = 6"
   ]
  },
  {
   "cell_type": "code",
   "execution_count": 2,
   "id": "885f27e3",
   "metadata": {},
   "outputs": [
    {
     "name": "stdout",
     "output_type": "stream",
     "text": [
      "[[1, 2, 3], [2, 4], [4], [4], [5], [3]]\n"
     ]
    }
   ],
   "source": [
    "adj_list = [[] for _ in range(vert_num)]\n",
    "for u, v in edge_list:\n",
    "    adj_list[u].append(v)\n",
    "print(adj_list) "
   ]
  },
  {
   "cell_type": "code",
   "execution_count": 3,
   "id": "afaf7993",
   "metadata": {},
   "outputs": [
    {
     "name": "stdout",
     "output_type": "stream",
     "text": [
      "[[0, 1, 1, 1, 0, 0], [0, 0, 1, 0, 1, 0], [0, 0, 0, 0, 1, 0], [0, 0, 0, 0, 1, 0], [0, 0, 0, 0, 0, 1], [0, 0, 0, 1, 0, 0]]\n"
     ]
    }
   ],
   "source": [
    "adj_matrix = [[0 for _ in range(vert_num)] for _ in range(vert_num)]\n",
    "\n",
    "for edge in edge_list:\n",
    "    u = edge[0]\n",
    "    v = edge[1]\n",
    "    adj_matrix[u][v] = 1\n",
    "    \n",
    "print(adj_matrix)    \n",
    "\n"
   ]
  },
  {
   "cell_type": "code",
   "execution_count": 19,
   "id": "0b04608f",
   "metadata": {},
   "outputs": [
    {
     "name": "stdout",
     "output_type": "stream",
     "text": [
      "Цикл: 3 -> 4 -> 5 -> 3\n",
      "Время: [12, 11, 10, 7, 9, 8]\n"
     ]
    }
   ],
   "source": [
    "g = adj_list\n",
    "\n",
    "parents = [None for _ in range(vert_num)]\n",
    "colors = [\"w\" for _ in range(vert_num)]\n",
    "timer = 0\n",
    "tin = [None for _ in range(vert_num)]\n",
    "tout = [None for _ in range(vert_num)]\n",
    "\n",
    "def dfs(v, p = -1):\n",
    "    global timer\n",
    "    cycle = []\n",
    "    cycle_last = []\n",
    "    parents[v] = p\n",
    "    colors[v] = \"g\"\n",
    "    timer += 1\n",
    "    tin[v] = timer\n",
    "    for u in g[v]:\n",
    "        if colors[u] == \"g\":\n",
    "            cycle.append(v)\n",
    "            cycle.append(u)\n",
    "            for i in range(u, vert_num):\n",
    "                n = adj_list[cycle[len(cycle)-1]]\n",
    "                for y in range(0, len(n)):\n",
    "                    k = n[y]\n",
    "                    if colors[k] == \"g\":\n",
    "                        cycle.append(k)\n",
    "                        \n",
    "            if cycle[0] != cycle[len(cycle)-1]:\n",
    "                for elem in cycle:\n",
    "                    if cycle[0] != cycle[len(cycle)-1]:\n",
    "                        cycle.pop(len(cycle)-1)\n",
    "                \n",
    "            for i in range(0, len(cycle)):\n",
    "                cycle_last.append(str(cycle[i]))\n",
    "                cycle_last.append('->')\n",
    "            cycle_last = cycle_last[:-1]             \n",
    "                \n",
    "            print(\"Цикл:\", ' '.join(cycle_last))\n",
    "            continue\n",
    "        elif colors[u] == \"b\":\n",
    "            continue\n",
    "        elif colors[u] == \"w\":\n",
    "            dfs(u, v)\n",
    "    colors[v] = \"b\"\n",
    "    timer += 1\n",
    "    tout[v] = timer\n",
    "    \n",
    "    \n",
    "dfs(0)\n",
    "\n",
    "print(\"Время:\", tout)\n"
   ]
  },
  {
   "cell_type": "code",
   "execution_count": 10,
   "id": "4cda20eb",
   "metadata": {},
   "outputs": [
    {
     "name": "stdout",
     "output_type": "stream",
     "text": [
      "Цикл: 3 -> 4 -> 5 -> 3\n",
      "[0, 1, 2, 4, 5, 3]\n"
     ]
    }
   ],
   "source": [
    "g = adj_list\n",
    "\n",
    "parents = [None for _ in range(vert_num)]\n",
    "colors = [\"w\" for _ in range(vert_num)]\n",
    "timer = 0\n",
    "tin = [None for _ in range(vert_num)]\n",
    "tout = [None for _ in range(vert_num)]\n",
    "\n",
    "def top_sort():\n",
    "    for elem in range(vert_num):\n",
    "        if colors[elem] == \"w\":\n",
    "            dfs(elem)\n",
    "     \n",
    "    vert_list = []\n",
    "    for elem in range(vert_num):\n",
    "        vert_list.append(elem)\n",
    "    \n",
    "    ans = [\n",
    "        x for y, x in sorted(zip(tout, vert_list), key = lambda pair: pair[0], reverse = True)\n",
    "    ]\n",
    "    return ans\n",
    "\n",
    "print(top_sort())\n"
   ]
  },
  {
   "cell_type": "code",
   "execution_count": null,
   "id": "e42b6b20",
   "metadata": {},
   "outputs": [],
   "source": []
  }
 ],
 "metadata": {
  "kernelspec": {
   "display_name": "Python 3 (ipykernel)",
   "language": "python",
   "name": "python3"
  },
  "language_info": {
   "codemirror_mode": {
    "name": "ipython",
    "version": 3
   },
   "file_extension": ".py",
   "mimetype": "text/x-python",
   "name": "python",
   "nbconvert_exporter": "python",
   "pygments_lexer": "ipython3",
   "version": "3.11.4"
  }
 },
 "nbformat": 4,
 "nbformat_minor": 5
}
